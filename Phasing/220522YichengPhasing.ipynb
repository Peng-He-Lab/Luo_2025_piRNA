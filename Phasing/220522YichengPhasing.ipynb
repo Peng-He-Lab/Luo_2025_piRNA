{
 "cells": [
  {
   "cell_type": "code",
   "execution_count": 1,
   "id": "0ca50e73",
   "metadata": {},
   "outputs": [],
   "source": [
    "import pandas as pd\n",
    "import scipy.stats\n",
    "import numpy as np"
   ]
  },
  {
   "cell_type": "markdown",
   "id": "343ee333",
   "metadata": {},
   "source": [
    "Run samtools in Linux:\n",
    "\n",
    "bedtools bamtobed -i Your.vectoronly.bam > Your.vectoronly.bed.txt"
   ]
  },
  {
   "cell_type": "code",
   "execution_count": 2,
   "id": "6d785115",
   "metadata": {},
   "outputs": [],
   "source": [
    "Sample=pd.read_csv('Sample_311_male_FM7c_G0_1st_Sample_311_male_FM7c_G0_1st.dm6.23_29mer.originalUBIG.vectoronly.dup.bed.txt',\n",
    "                  sep='\\t',header=None)"
   ]
  },
  {
   "cell_type": "code",
   "execution_count": 3,
   "id": "f5dae4c4",
   "metadata": {},
   "outputs": [],
   "source": [
    "sense_distance=[]\n",
    "antisense_distance=[]"
   ]
  },
  {
   "cell_type": "code",
   "execution_count": 4,
   "id": "2249b2c8",
   "metadata": {
    "scrolled": true
   },
   "outputs": [],
   "source": [
    "for i in Sample.index:\n",
    "    for j in range(i,len(Sample.index)):\n",
    "        if (Sample.loc[j,1]-Sample.loc[i,2]) >= 0:\n",
    "            if (Sample.loc[i,5]=='+') & (Sample.loc[j,5]=='+'):\n",
    "                sense_distance.append(Sample.loc[j,1]-Sample.loc[i,2])\n",
    "            if (Sample.loc[i,5]=='-') & (Sample.loc[j,5]=='-'):\n",
    "                antisense_distance.append(Sample.loc[j,1]-Sample.loc[i,2])\n",
    "# These four lines are for calculating the nearest\n",
    "#            if (j+1>=len(Sample.index)):   #checking validity of \"j+1\"\n",
    "#                break\n",
    "#            if (Sample.loc[j+1,1]>Sample.loc[j,1]): \n",
    "#                break #skip the current loop after seeing nearest neighbor\n"
   ]
  },
  {
   "cell_type": "code",
   "execution_count": 5,
   "id": "313d00d6",
   "metadata": {},
   "outputs": [],
   "source": [
    "Distance_sense_pos=pd.Series(sense_distance)[pd.Series(sense_distance)>=0]\n",
    "Distance_antisense_pos=pd.Series(antisense_distance)[pd.Series(antisense_distance)>=0]"
   ]
  },
  {
   "cell_type": "code",
   "execution_count": 6,
   "id": "ec9a18db",
   "metadata": {},
   "outputs": [
    {
     "data": {
      "text/plain": [
       "0     911\n",
       "1     357\n",
       "2     500\n",
       "3     605\n",
       "4     450\n",
       "5     411\n",
       "6     816\n",
       "7     488\n",
       "8     499\n",
       "9     412\n",
       "10    317\n",
       "11    308\n",
       "12    461\n",
       "13    256\n",
       "14    276\n",
       "15    218\n",
       "16    334\n",
       "17    350\n",
       "18    321\n",
       "19    386\n",
       "20    504\n",
       "21    427\n",
       "22    275\n",
       "23    545\n",
       "24    313\n",
       "25    506\n",
       "26    466\n",
       "27    563\n",
       "28    555\n",
       "29    531\n",
       "30    358\n",
       "31    554\n",
       "32    629\n",
       "33    334\n",
       "34    225\n",
       "35    407\n",
       "36    264\n",
       "37    252\n",
       "38    250\n",
       "39    203\n",
       "40    306\n",
       "41    164\n",
       "42    213\n",
       "43    132\n",
       "44    203\n",
       "45    222\n",
       "46    172\n",
       "47    228\n",
       "48    191\n",
       "49    207\n",
       "50    219\n",
       "dtype: int64"
      ]
     },
     "execution_count": 6,
     "metadata": {},
     "output_type": "execute_result"
    }
   ],
   "source": [
    "Counts=Distance_sense_pos.value_counts().reindex(\n",
    "    pd.Series(list(range(51))), fill_value=0)\n",
    "Counts #51 means only considering 0-50 here. The number can be changed"
   ]
  },
  {
   "cell_type": "code",
   "execution_count": 7,
   "id": "811a953d",
   "metadata": {},
   "outputs": [
    {
     "data": {
      "text/plain": [
       "0     0.004191\n",
       "1     0.001642\n",
       "2     0.002300\n",
       "3     0.002783\n",
       "4     0.002070\n",
       "5     0.001891\n",
       "6     0.003754\n",
       "7     0.002245\n",
       "8     0.002296\n",
       "9     0.001895\n",
       "10    0.001458\n",
       "11    0.001417\n",
       "12    0.002121\n",
       "13    0.001178\n",
       "14    0.001270\n",
       "15    0.001003\n",
       "16    0.001537\n",
       "17    0.001610\n",
       "18    0.001477\n",
       "19    0.001776\n",
       "20    0.002319\n",
       "21    0.001964\n",
       "22    0.001265\n",
       "23    0.002507\n",
       "24    0.001440\n",
       "25    0.002328\n",
       "26    0.002144\n",
       "27    0.002590\n",
       "28    0.002553\n",
       "29    0.002443\n",
       "30    0.001647\n",
       "31    0.002549\n",
       "32    0.002894\n",
       "33    0.001537\n",
       "34    0.001035\n",
       "35    0.001872\n",
       "36    0.001215\n",
       "37    0.001159\n",
       "38    0.001150\n",
       "39    0.000934\n",
       "40    0.001408\n",
       "41    0.000754\n",
       "42    0.000980\n",
       "43    0.000607\n",
       "44    0.000934\n",
       "45    0.001021\n",
       "46    0.000791\n",
       "47    0.001049\n",
       "48    0.000879\n",
       "49    0.000952\n",
       "50    0.001008\n",
       "dtype: float64"
      ]
     },
     "execution_count": 7,
     "metadata": {},
     "output_type": "execute_result"
    }
   ],
   "source": [
    "Counts/(Distance_sense_pos.value_counts().sum())"
   ]
  },
  {
   "cell_type": "code",
   "execution_count": 8,
   "id": "dfa83833",
   "metadata": {},
   "outputs": [
    {
     "data": {
      "text/plain": [
       "0     3.615696\n",
       "1    -0.372026\n",
       "2     0.657296\n",
       "3     1.413091\n",
       "4     0.297393\n",
       "5     0.016669\n",
       "6     2.931881\n",
       "7     0.570919\n",
       "8     0.650098\n",
       "9     0.023867\n",
       "10   -0.659948\n",
       "11   -0.724730\n",
       "12    0.376572\n",
       "13   -1.099029\n",
       "14   -0.955068\n",
       "15   -1.372555\n",
       "16   -0.537581\n",
       "17   -0.422412\n",
       "18   -0.631156\n",
       "19   -0.163282\n",
       "20    0.686088\n",
       "21    0.131838\n",
       "22   -0.962266\n",
       "23    0.981208\n",
       "24   -0.688740\n",
       "25    0.700484\n",
       "26    0.412562\n",
       "27    1.110773\n",
       "28    1.053189\n",
       "29    0.880436\n",
       "30   -0.364828\n",
       "31    1.045991\n",
       "32    1.585845\n",
       "33   -0.537581\n",
       "34   -1.322169\n",
       "35   -0.012123\n",
       "36   -1.041445\n",
       "37   -1.127821\n",
       "38   -1.142217\n",
       "39   -1.480526\n",
       "40   -0.739126\n",
       "41   -1.761250\n",
       "42   -1.408545\n",
       "43   -1.991588\n",
       "44   -1.480526\n",
       "45   -1.343763\n",
       "46   -1.703665\n",
       "47   -1.300574\n",
       "48   -1.566902\n",
       "49   -1.451734\n",
       "50   -1.365357\n",
       "dtype: float64"
      ]
     },
     "execution_count": 8,
     "metadata": {},
     "output_type": "execute_result"
    }
   ],
   "source": [
    "(Counts-Counts[1:20].mean())/(Counts[1:20].std())\n",
    "# (Counts-Counts.mean())/(Counts.std()) #This uses all the 51 bins for Z score counting"
   ]
  },
  {
   "cell_type": "code",
   "execution_count": null,
   "id": "cb480e64",
   "metadata": {},
   "outputs": [],
   "source": []
  }
 ],
 "metadata": {
  "kernelspec": {
   "display_name": "flng",
   "language": "python",
   "name": "flng"
  },
  "language_info": {
   "codemirror_mode": {
    "name": "ipython",
    "version": 3
   },
   "file_extension": ".py",
   "mimetype": "text/x-python",
   "name": "python",
   "nbconvert_exporter": "python",
   "pygments_lexer": "ipython3",
   "version": "3.8.11"
  }
 },
 "nbformat": 4,
 "nbformat_minor": 5
}
