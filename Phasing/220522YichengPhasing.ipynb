{
 "cells": [
  {
   "cell_type": "code",
   "execution_count": 1,
   "id": "0ca50e73",
   "metadata": {},
   "outputs": [],
   "source": [
    "import pandas as pd\n",
    "import scipy.stats\n",
    "import numpy as np"
   ]
  },
  {
   "cell_type": "markdown",
   "id": "343ee333",
   "metadata": {},
   "source": [
    "Run samtools in Linux:\n",
    "\n",
    "bedtools bamtobed -i Your.vectoronly.bam > Your.vectoronly.bed.txt"
   ]
  },
  {
   "cell_type": "code",
   "execution_count": 2,
   "id": "6d785115",
   "metadata": {},
   "outputs": [],
   "source": [
    "Sample=pd.read_csv('Sample_311_male_FM7c_G0_1st_Sample_311_male_FM7c_G0_1st.dm6.23_29mer.originalUBIG.vectoronly.dup.bed.txt',\n",
    "                  sep='\\t',header=None)"
   ]
  },
  {
   "cell_type": "markdown",
   "id": "f7618c3d",
   "metadata": {},
   "source": [
    "# tail-to-head distances"
   ]
  },
  {
   "cell_type": "code",
   "execution_count": 3,
   "id": "2249b2c8",
   "metadata": {
    "scrolled": true
   },
   "outputs": [],
   "source": [
    "#tail to head distances\n",
    "sense_distance=[]\n",
    "antisense_distance=[]\n",
    "#st = time.time()\n",
    "for i in Sample.index: #scan through every read\n",
    "    for j in range(i,len(Sample.index)): #scan through every read for pairwise comparison\n",
    "        if (Sample.loc[j,1]-Sample.loc[i,2]) > 200:\n",
    "            break     #Only consider pairs of reads no farther than 200\n",
    "        if (Sample.loc[j,1]-Sample.loc[i,2]) >= 0: #only log positive distances\n",
    "            if (Sample.loc[i,5]=='+') & (Sample.loc[j,5]=='+'): #sense strand strand\n",
    "                sense_distance.append(Sample.loc[j,1]-Sample.loc[i,2])\n",
    "            if (Sample.loc[i,5]=='-') & (Sample.loc[j,5]=='-'): #antisense strand\n",
    "                antisense_distance.append(Sample.loc[j,1]-Sample.loc[i,2])\n",
    "# These four lines are for calculating the nearest\n",
    "#            if (j+1>=len(Sample.index)):   #checking validity of \"j+1\"\n",
    "#                break\n",
    "#            if (Sample.loc[j+1,1]>Sample.loc[j,1]): \n",
    "#                break #skip the current loop after seeing nearest neighbor\n",
    "#print(time.time()-st)"
   ]
  },
  {
   "cell_type": "code",
   "execution_count": 7,
   "id": "313d00d6",
   "metadata": {},
   "outputs": [],
   "source": [
    "Distance_sense_pos=pd.Series(sense_distance)[pd.Series(sense_distance)>=0]\n",
    "Distance_antisense_pos=pd.Series(antisense_distance)[pd.Series(antisense_distance)>=0]"
   ]
  },
  {
   "cell_type": "code",
   "execution_count": 9,
   "id": "ec9a18db",
   "metadata": {},
   "outputs": [
    {
     "data": {
      "text/plain": [
       "0     911\n",
       "1     357\n",
       "2     500\n",
       "3     605\n",
       "4     450\n",
       "5     411\n",
       "6     816\n",
       "7     488\n",
       "8     499\n",
       "9     412\n",
       "10    317\n",
       "11    308\n",
       "12    461\n",
       "13    256\n",
       "14    276\n",
       "15    218\n",
       "16    334\n",
       "17    350\n",
       "18    321\n",
       "19    386\n",
       "20    504\n",
       "21    427\n",
       "22    275\n",
       "23    545\n",
       "24    313\n",
       "25    506\n",
       "26    466\n",
       "27    563\n",
       "28    555\n",
       "29    531\n",
       "30    358\n",
       "31    554\n",
       "32    629\n",
       "33    334\n",
       "34    225\n",
       "35    407\n",
       "36    264\n",
       "37    252\n",
       "38    250\n",
       "39    203\n",
       "40    306\n",
       "41    164\n",
       "42    213\n",
       "43    132\n",
       "44    203\n",
       "45    222\n",
       "46    172\n",
       "47    228\n",
       "48    191\n",
       "49    207\n",
       "50    219\n",
       "dtype: int64"
      ]
     },
     "execution_count": 9,
     "metadata": {},
     "output_type": "execute_result"
    }
   ],
   "source": [
    "Counts=Distance_sense_pos.value_counts().reindex(\n",
    "    pd.Series(list(range(51))), fill_value=0)\n",
    "Counts #51 means only considering 0-50 here. The number can be changed"
   ]
  },
  {
   "cell_type": "code",
   "execution_count": 6,
   "id": "811a953d",
   "metadata": {},
   "outputs": [
    {
     "data": {
      "text/plain": [
       "0     0.016578\n",
       "1     0.006496\n",
       "2     0.009099\n",
       "3     0.011009\n",
       "4     0.008189\n",
       "5     0.007479\n",
       "6     0.014849\n",
       "7     0.008880\n",
       "8     0.009080\n",
       "9     0.007497\n",
       "10    0.005769\n",
       "11    0.005605\n",
       "12    0.008389\n",
       "13    0.004659\n",
       "14    0.005022\n",
       "15    0.003967\n",
       "16    0.006078\n",
       "17    0.006369\n",
       "18    0.005841\n",
       "19    0.007024\n",
       "20    0.009171\n",
       "21    0.007770\n",
       "22    0.005004\n",
       "23    0.009918\n",
       "24    0.005696\n",
       "25    0.009208\n",
       "26    0.008480\n",
       "27    0.010245\n",
       "28    0.010100\n",
       "29    0.009663\n",
       "30    0.006515\n",
       "31    0.010081\n",
       "32    0.011446\n",
       "33    0.006078\n",
       "34    0.004094\n",
       "35    0.007406\n",
       "36    0.004804\n",
       "37    0.004586\n",
       "38    0.004549\n",
       "39    0.003694\n",
       "40    0.005568\n",
       "41    0.002984\n",
       "42    0.003876\n",
       "43    0.002402\n",
       "44    0.003694\n",
       "45    0.004040\n",
       "46    0.003130\n",
       "47    0.004149\n",
       "48    0.003476\n",
       "49    0.003767\n",
       "50    0.003985\n",
       "dtype: float64"
      ]
     },
     "execution_count": 6,
     "metadata": {},
     "output_type": "execute_result"
    }
   ],
   "source": [
    "Counts/(Distance_sense_pos.value_counts().sum())"
   ]
  },
  {
   "cell_type": "code",
   "execution_count": 7,
   "id": "dfa83833",
   "metadata": {},
   "outputs": [
    {
     "data": {
      "text/plain": [
       "0     3.615696\n",
       "1    -0.372026\n",
       "2     0.657296\n",
       "3     1.413091\n",
       "4     0.297393\n",
       "5     0.016669\n",
       "6     2.931881\n",
       "7     0.570919\n",
       "8     0.650098\n",
       "9     0.023867\n",
       "10   -0.659948\n",
       "11   -0.724730\n",
       "12    0.376572\n",
       "13   -1.099029\n",
       "14   -0.955068\n",
       "15   -1.372555\n",
       "16   -0.537581\n",
       "17   -0.422412\n",
       "18   -0.631156\n",
       "19   -0.163282\n",
       "20    0.686088\n",
       "21    0.131838\n",
       "22   -0.962266\n",
       "23    0.981208\n",
       "24   -0.688740\n",
       "25    0.700484\n",
       "26    0.412562\n",
       "27    1.110773\n",
       "28    1.053189\n",
       "29    0.880436\n",
       "30   -0.364828\n",
       "31    1.045991\n",
       "32    1.585845\n",
       "33   -0.537581\n",
       "34   -1.322169\n",
       "35   -0.012123\n",
       "36   -1.041445\n",
       "37   -1.127821\n",
       "38   -1.142217\n",
       "39   -1.480526\n",
       "40   -0.739126\n",
       "41   -1.761250\n",
       "42   -1.408545\n",
       "43   -1.991588\n",
       "44   -1.480526\n",
       "45   -1.343763\n",
       "46   -1.703665\n",
       "47   -1.300574\n",
       "48   -1.566902\n",
       "49   -1.451734\n",
       "50   -1.365357\n",
       "dtype: float64"
      ]
     },
     "execution_count": 7,
     "metadata": {},
     "output_type": "execute_result"
    }
   ],
   "source": [
    "(Counts-Counts[1:20].mean())/(Counts[1:20].std())\n",
    "# (Counts-Counts.mean())/(Counts.std()) #This uses all the 51 bins for Z score counting"
   ]
  },
  {
   "cell_type": "markdown",
   "id": "dc0c26c1",
   "metadata": {},
   "source": [
    "# head-to-head distances"
   ]
  },
  {
   "cell_type": "code",
   "execution_count": 12,
   "id": "2983f605",
   "metadata": {},
   "outputs": [],
   "source": [
    "#head to head distances\n",
    "sense_distance=[]\n",
    "antisense_distance=[]\n",
    "\n",
    "#sense strand\n",
    "for i in Sample.index: #scan through every read\n",
    "    for j in range(i,len(Sample.index)): #scan through every read for pairwise comparison\n",
    "        if (Sample.loc[j,1]-Sample.loc[i,1]) > 200:\n",
    "            break     #Only consider pairs of reads no farther than 200\n",
    "        if (Sample.loc[j,1]-Sample.loc[i,1]) > 0: #only log positive distances\n",
    "            if (Sample.loc[i,5]=='+') & (Sample.loc[j,5]=='+'): #sense strand strand\n",
    "                sense_distance.append(Sample.loc[j,1]-Sample.loc[i,1])\n",
    "#antisense strand                \n",
    "for i in Sample.index: #scan through every read\n",
    "    for j in range(i,len(Sample.index)): #scan through every read for pairwise comparison\n",
    "        if (Sample.loc[j,2]-Sample.loc[i,2]) > 200:\n",
    "            break     #Only consider pairs of reads no farther than 200\n",
    "        if (Sample.loc[j,2]-Sample.loc[i,2]) > 0: #only log positive distances\n",
    "            if (Sample.loc[i,5]=='-') & (Sample.loc[j,5]=='-'): #antisense strand\n",
    "                antisense_distance.append(Sample.loc[j,2]-Sample.loc[i,2])"
   ]
  },
  {
   "cell_type": "code",
   "execution_count": 13,
   "id": "cb480e64",
   "metadata": {},
   "outputs": [],
   "source": [
    "Distance_sense_pos=pd.Series(sense_distance)[pd.Series(sense_distance)>=0]\n",
    "Distance_antisense_pos=pd.Series(antisense_distance)[pd.Series(antisense_distance)>=0]"
   ]
  },
  {
   "cell_type": "code",
   "execution_count": 14,
   "id": "16de4a40",
   "metadata": {},
   "outputs": [
    {
     "data": {
      "text/plain": [
       "0        0\n",
       "1      878\n",
       "2     1384\n",
       "3     1070\n",
       "4     1169\n",
       "5      749\n",
       "6     1024\n",
       "7      671\n",
       "8      967\n",
       "9      826\n",
       "10     838\n",
       "11     421\n",
       "12     908\n",
       "13     592\n",
       "14     399\n",
       "15     449\n",
       "16     361\n",
       "17     543\n",
       "18     544\n",
       "19     852\n",
       "20     411\n",
       "21     514\n",
       "22     536\n",
       "23     864\n",
       "24     429\n",
       "25     829\n",
       "26     417\n",
       "27     536\n",
       "28     688\n",
       "29     352\n",
       "30     283\n",
       "31     901\n",
       "32     328\n",
       "33     652\n",
       "34     368\n",
       "35     528\n",
       "36     338\n",
       "37     469\n",
       "38     275\n",
       "39     283\n",
       "40     194\n",
       "41     200\n",
       "42     331\n",
       "43     322\n",
       "44     414\n",
       "45     452\n",
       "46     443\n",
       "47     338\n",
       "48     474\n",
       "49     262\n",
       "50     476\n",
       "dtype: int64"
      ]
     },
     "execution_count": 14,
     "metadata": {},
     "output_type": "execute_result"
    }
   ],
   "source": [
    "Counts=Distance_sense_pos.value_counts().reindex(\n",
    "    pd.Series(list(range(51))), fill_value=0)\n",
    "Counts #51 means only considering 0-50 here. The number can be changed"
   ]
  },
  {
   "cell_type": "code",
   "execution_count": 15,
   "id": "4c415db0",
   "metadata": {},
   "outputs": [
    {
     "data": {
      "text/plain": [
       "0     0.000000\n",
       "1     0.012891\n",
       "2     0.020320\n",
       "3     0.015710\n",
       "4     0.017163\n",
       "5     0.010997\n",
       "6     0.015034\n",
       "7     0.009852\n",
       "8     0.014197\n",
       "9     0.012127\n",
       "10    0.012303\n",
       "11    0.006181\n",
       "12    0.013331\n",
       "13    0.008692\n",
       "14    0.005858\n",
       "15    0.006592\n",
       "16    0.005300\n",
       "17    0.007972\n",
       "18    0.007987\n",
       "19    0.012509\n",
       "20    0.006034\n",
       "21    0.007547\n",
       "22    0.007870\n",
       "23    0.012685\n",
       "24    0.006299\n",
       "25    0.012171\n",
       "26    0.006122\n",
       "27    0.007870\n",
       "28    0.010101\n",
       "29    0.005168\n",
       "30    0.004155\n",
       "31    0.013228\n",
       "32    0.004816\n",
       "33    0.009573\n",
       "34    0.005403\n",
       "35    0.007752\n",
       "36    0.004962\n",
       "37    0.006886\n",
       "38    0.004038\n",
       "39    0.004155\n",
       "40    0.002848\n",
       "41    0.002936\n",
       "42    0.004860\n",
       "43    0.004728\n",
       "44    0.006078\n",
       "45    0.006636\n",
       "46    0.006504\n",
       "47    0.004962\n",
       "48    0.006959\n",
       "49    0.003847\n",
       "50    0.006989\n",
       "dtype: float64"
      ]
     },
     "execution_count": 15,
     "metadata": {},
     "output_type": "execute_result"
    }
   ],
   "source": [
    "Counts/(Distance_sense_pos.value_counts().sum())"
   ]
  },
  {
   "cell_type": "code",
   "execution_count": null,
   "id": "00fda1e0",
   "metadata": {},
   "outputs": [],
   "source": []
  }
 ],
 "metadata": {
  "kernelspec": {
   "display_name": "flng",
   "language": "python",
   "name": "flng"
  },
  "language_info": {
   "codemirror_mode": {
    "name": "ipython",
    "version": 3
   },
   "file_extension": ".py",
   "mimetype": "text/x-python",
   "name": "python",
   "nbconvert_exporter": "python",
   "pygments_lexer": "ipython3",
   "version": "3.8.11"
  }
 },
 "nbformat": 4,
 "nbformat_minor": 5
}
