{
 "cells": [
  {
   "cell_type": "code",
   "execution_count": 1,
   "id": "0ca50e73",
   "metadata": {},
   "outputs": [],
   "source": [
    "import pandas as pd\n",
    "import scipy.stats\n",
    "import numpy as np"
   ]
  },
  {
   "cell_type": "markdown",
   "id": "d3704d8c",
   "metadata": {},
   "source": [
    "Run samtools in Linux:\n",
    "\n",
    "bedtools bamtobed -i Your.vectoronly.bam > Your.vectoronly.bed.txt"
   ]
  },
  {
   "cell_type": "code",
   "execution_count": 2,
   "id": "6d785115",
   "metadata": {},
   "outputs": [],
   "source": [
    "Sample=pd.read_csv('Sample_311_male_FM7c_G0_1st_Sample_311_male_FM7c_G0_1st.dm6.23_29mer.originalUBIG.vectoronly.dup.bed.txt',\n",
    "                  sep='\\t',header=None)"
   ]
  },
  {
   "cell_type": "code",
   "execution_count": 3,
   "id": "f5dae4c4",
   "metadata": {},
   "outputs": [],
   "source": [
    "sense_distance=[]\n",
    "antisense_distance=[]"
   ]
  },
  {
   "cell_type": "code",
   "execution_count": null,
   "id": "2249b2c8",
   "metadata": {
    "scrolled": true
   },
   "outputs": [],
   "source": [
    "for i in Sample.index:\n",
    "    for j in range(i,len(Sample.index)):\n",
    "        if (Sample.loc[j,1]-Sample.loc[i,2]) >= 0:\n",
    "            if (Sample.loc[i,5]=='+') & (Sample.loc[j,5]=='+'):\n",
    "                sense_distance.append(Sample.loc[j,1]-Sample.loc[i,2])\n",
    "            if (Sample.loc[i,5]=='-') & (Sample.loc[j,5]=='-'):\n",
    "                antisense_distance.append(Sample.loc[j,1]-Sample.loc[i,2])\n",
    "# These four lines are for calculating the nearest\n",
    "#            if (j+1>=len(Sample.index)):   #checking validity of \"j+1\"\n",
    "#                break\n",
    "#            if (Sample.loc[j+1,1]>Sample.loc[j,1]): \n",
    "#                break #skip the current loop after seeing nearest neighbor\n"
   ]
  },
  {
   "cell_type": "code",
   "execution_count": null,
   "id": "313d00d6",
   "metadata": {},
   "outputs": [],
   "source": [
    "Distance_sense_pos=pd.Series(sense_distance)[pd.Series(sense_distance)>=0]\n",
    "Distance_antisense_pos=pd.Series(antisense_distance)[pd.Series(antisense_distance)>=0]"
   ]
  },
  {
   "cell_type": "code",
   "execution_count": null,
   "id": "ec9a18db",
   "metadata": {},
   "outputs": [],
   "source": [
    "Counts=Distance_sense_pos.value_counts().reindex(\n",
    "    pd.Series(list(range(51))), fill_value=0)\n",
    "Counts #51 means only considering 0-50 here. The number can be changed"
   ]
  },
  {
   "cell_type": "code",
   "execution_count": null,
   "id": "811a953d",
   "metadata": {},
   "outputs": [],
   "source": [
    "Counts/(Distance_sense_pos.value_counts().sum())"
   ]
  },
  {
   "cell_type": "code",
   "execution_count": null,
   "id": "dfa83833",
   "metadata": {},
   "outputs": [],
   "source": [
    "(Counts-Counts[1:20].mean())/(Counts[1:20].std())\n",
    "# (Counts-Counts.mean())/(Counts.std()) #This uses all the 51 bins for Z score counting"
   ]
  },
  {
   "cell_type": "code",
   "execution_count": null,
   "id": "d2c545a5",
   "metadata": {},
   "outputs": [],
   "source": []
  }
 ],
 "metadata": {
  "kernelspec": {
   "display_name": "flng",
   "language": "python",
   "name": "flng"
  },
  "language_info": {
   "codemirror_mode": {
    "name": "ipython",
    "version": 3
   },
   "file_extension": ".py",
   "mimetype": "text/x-python",
   "name": "python",
   "nbconvert_exporter": "python",
   "pygments_lexer": "ipython3",
   "version": "3.8.11"
  }
 },
 "nbformat": 4,
 "nbformat_minor": 5
}
